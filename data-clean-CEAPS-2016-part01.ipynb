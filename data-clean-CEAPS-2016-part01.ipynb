{
 "cells": [
  {
   "cell_type": "markdown",
   "metadata": {},
   "source": [
    "# Análise dos dados dos senadores brasileiros\n",
    "\n",
    "## 1 STEP) Questions\n",
    "- Qual o senador que mais gastou ?\n",
    "- Qual o senador que mais pediu reembolso?\n",
    "- Reembolsos menores que  R$ 1,00\n",
    "- Gráfico comparando a quantidade gasta por cada senador\n",
    "<br/>\n",
    "<img src=\"images/senado.jpg\"height=\"50%\" width=\"50%\"/>"
   ]
  },
  {
   "cell_type": "markdown",
   "metadata": {},
   "source": [
    "### Check configuration"
   ]
  },
  {
   "cell_type": "code",
   "execution_count": 1,
   "metadata": {},
   "outputs": [
    {
     "name": "stdout",
     "output_type": "stream",
     "text": [
      "Configuration environment:\n",
      "\n",
      "Python 3.6.3 :: Anaconda, Inc.\n",
      "/home/campos/anaconda3/bin/python\n",
      "pip 19.0.2 from /home/campos/anaconda3/lib/python3.6/site-packages/pip (python 3.6)\n",
      "conda 4.3.30\n",
      "/home/campos/anaconda3/bin/conda\n"
     ]
    }
   ],
   "source": [
    "#!/bin/bash\n",
    "!rm config-environment.txt\n",
    "!echo \"Configuration environment:\\n\"\n",
    "!python --version >> config-environment.txt\n",
    "!which python >> config-environment.txt\n",
    "!pip --version >> config-environment.txt\n",
    "!conda --version >> config-environment.txt\n",
    "!which conda >> config-environment.txt\n",
    "\n",
    "!cat config-environment.txt"
   ]
  },
  {
   "cell_type": "markdown",
   "metadata": {},
   "source": [
    "### Imports"
   ]
  },
  {
   "cell_type": "code",
   "execution_count": 2,
   "metadata": {
    "collapsed": true
   },
   "outputs": [],
   "source": [
    "# Data analysis and data wrangling\n",
    "import numpy as np\n",
    "import pandas as pd\n",
    "\n",
    "# Plotting\n",
    "import seaborn as sns\n",
    "import matplotlib.pyplot as plt\n",
    "import missingno as msno # analise de variáveis vazia\n",
    "\n",
    "# Other\n",
    "import time"
   ]
  },
  {
   "cell_type": "markdown",
   "metadata": {},
   "source": [
    "### Cell Format"
   ]
  },
  {
   "cell_type": "code",
   "execution_count": 3,
   "metadata": {
    "collapsed": true
   },
   "outputs": [],
   "source": [
    "# Guarantees visualization inside the jupyter\n",
    "%matplotlib inline\n",
    "\n",
    "plt.style.use('fivethirtyeight')\n",
    "plt.rcParams['figure.figsize'] = (15, 8)\n",
    "\n",
    "# Print all rows and columns. Dont hide any\n",
    "pd.set_option('display.max_rows', None)\n",
    "pd.set_option('display.max_columns', None)\n",
    "\n",
    "# Definition color and map de colors\n",
    "default_color = '#56B4E9'\n",
    "colormap = plt.cm.cool"
   ]
  },
  {
   "cell_type": "markdown",
   "metadata": {},
   "source": [
    "## 2 STEP) Data Acquisition\n",
    "- **Fonte:**\n",
    "portal da transparência: https://www12.senado.leg.br/transparencia/dados-abertos-transparencia/dados-abertos-ceaps\n",
    "- **Ano**: 2016\n",
    "- **Format**: CSV"
   ]
  },
  {
   "cell_type": "markdown",
   "metadata": {},
   "source": [
    "### Load dataset"
   ]
  },
  {
   "cell_type": "code",
   "execution_count": 4,
   "metadata": {
    "scrolled": true
   },
   "outputs": [
    {
     "name": "stdout",
     "output_type": "stream",
     "text": [
      "Tokenization took: 25.44 ms\n",
      "Type conversion took: 58.10 ms\n",
      "Parser memory cleanup took: 0.01 ms\n",
      "CPU times: user 126 ms, sys: 12.9 ms, total: 139 ms\n",
      "Wall time: 138 ms\n"
     ]
    }
   ],
   "source": [
    "%%time\n",
    "\n",
    "df = pd.read_csv('data_base/2016.csv', \n",
    "                  encoding='latin1',\n",
    "                  delimiter=';', \n",
    "                  verbose=True)"
   ]
  },
  {
   "cell_type": "markdown",
   "metadata": {},
   "source": [
    "## 3 STEP) Data analysis"
   ]
  },
  {
   "cell_type": "code",
   "execution_count": 5,
   "metadata": {
    "scrolled": true
   },
   "outputs": [
    {
     "name": "stdout",
     "output_type": "stream",
     "text": [
      "<class 'pandas.core.frame.DataFrame'>\n",
      "MultiIndex: 26692 entries, (ANO, MES, SENADOR, TIPO_DESPESA, CNPJ_CPF, FORNECEDOR, DOCUMENTO, DATA) to (2016, 12, ZEZÉ PERRELLA, Passagens aéreas, aquáticas e terrestres nacionais, 21.443.582/0001-50, Pronto Produção de Eventos e Turismo Ltda, ZDS6KY, 12/12/2016)\n",
      "Data columns (total 2 columns):\n",
      "ULTIMA ATUALIZACAO    21309 non-null object\n",
      "16/09/2017 04:01      26692 non-null object\n",
      "dtypes: object(2)\n",
      "memory usage: 974.5+ KB\n"
     ]
    }
   ],
   "source": [
    "df.info()"
   ]
  },
  {
   "cell_type": "markdown",
   "metadata": {},
   "source": [
    "Há um problema na geração dos dados. Neste caso, com `head()` é possível identificar como esta formatado."
   ]
  },
  {
   "cell_type": "code",
   "execution_count": 6,
   "metadata": {},
   "outputs": [
    {
     "data": {
      "text/html": [
       "<div>\n",
       "<style scoped>\n",
       "    .dataframe tbody tr th:only-of-type {\n",
       "        vertical-align: middle;\n",
       "    }\n",
       "\n",
       "    .dataframe tbody tr th {\n",
       "        vertical-align: top;\n",
       "    }\n",
       "\n",
       "    .dataframe thead th {\n",
       "        text-align: right;\n",
       "    }\n",
       "</style>\n",
       "<table border=\"1\" class=\"dataframe\">\n",
       "  <thead>\n",
       "    <tr style=\"text-align: right;\">\n",
       "      <th></th>\n",
       "      <th></th>\n",
       "      <th></th>\n",
       "      <th></th>\n",
       "      <th></th>\n",
       "      <th></th>\n",
       "      <th></th>\n",
       "      <th></th>\n",
       "      <th>ULTIMA ATUALIZACAO</th>\n",
       "      <th>16/09/2017 04:01</th>\n",
       "    </tr>\n",
       "  </thead>\n",
       "  <tbody>\n",
       "    <tr>\n",
       "      <th>ANO</th>\n",
       "      <th>MES</th>\n",
       "      <th>SENADOR</th>\n",
       "      <th>TIPO_DESPESA</th>\n",
       "      <th>CNPJ_CPF</th>\n",
       "      <th>FORNECEDOR</th>\n",
       "      <th>DOCUMENTO</th>\n",
       "      <th>DATA</th>\n",
       "      <td>DETALHAMENTO</td>\n",
       "      <td>VALOR_REEMBOLSADO</td>\n",
       "    </tr>\n",
       "    <tr>\n",
       "      <th rowspan=\"4\" valign=\"top\">2016</th>\n",
       "      <th rowspan=\"4\" valign=\"top\">1</th>\n",
       "      <th rowspan=\"4\" valign=\"top\">ACIR GURGACZ</th>\n",
       "      <th rowspan=\"4\" valign=\"top\">Aluguel de imóveis para escritório político, compreendendo despesas concernentes a eles.</th>\n",
       "      <th rowspan=\"2\" valign=\"top\">05.914.650/0001-66</th>\n",
       "      <th rowspan=\"2\" valign=\"top\">ELETROBRÁS DISTRIBUIÇÃO RONDÔNIA</th>\n",
       "      <th>000011328</th>\n",
       "      <th>13/01/2016</th>\n",
       "      <td>Despesa com pagamento de energia elétrica para...</td>\n",
       "      <td>73,6</td>\n",
       "    </tr>\n",
       "    <tr>\n",
       "      <th>000011327</th>\n",
       "      <th>18/01/2016</th>\n",
       "      <td>Pagamento de energia elétrica para o escritóri...</td>\n",
       "      <td>206,84</td>\n",
       "    </tr>\n",
       "    <tr>\n",
       "      <th>004.948.028-63</th>\n",
       "      <th>GILBERTO PISELO DO NASCIMENTO</th>\n",
       "      <th>001/16</th>\n",
       "      <th>04/01/2016</th>\n",
       "      <td>Despesa com pagamento de aluguel, utilizado pa...</td>\n",
       "      <td>6000</td>\n",
       "    </tr>\n",
       "    <tr>\n",
       "      <th>05.423.963/0001-11</th>\n",
       "      <th>OI MÓVEL S.A.</th>\n",
       "      <th>661639001</th>\n",
       "      <th>16/01/2016</th>\n",
       "      <td>despesa com pagamento de telefonia para o escr...</td>\n",
       "      <td>407,48</td>\n",
       "    </tr>\n",
       "  </tbody>\n",
       "</table>\n",
       "</div>"
      ],
      "text/plain": [
       "                                                                                                                                                                                  ULTIMA ATUALIZACAO  \\\n",
       "ANO  MES SENADOR      TIPO_DESPESA                                       CNPJ_CPF           FORNECEDOR                       DOCUMENTO DATA                                             DETALHAMENTO   \n",
       "2016 1   ACIR GURGACZ Aluguel de imóveis para escritório político, co... 05.914.650/0001-66 ELETROBRÁS DISTRIBUIÇÃO RONDÔNIA 000011328 13/01/2016  Despesa com pagamento de energia elétrica para...   \n",
       "                                                                                                                             000011327 18/01/2016  Pagamento de energia elétrica para o escritóri...   \n",
       "                                                                         004.948.028-63     GILBERTO PISELO DO NASCIMENTO    001/16    04/01/2016  Despesa com pagamento de aluguel, utilizado pa...   \n",
       "                                                                         05.423.963/0001-11 OI MÓVEL S.A.                    661639001 16/01/2016  despesa com pagamento de telefonia para o escr...   \n",
       "\n",
       "                                                                                                                                                    16/09/2017 04:01  \n",
       "ANO  MES SENADOR      TIPO_DESPESA                                       CNPJ_CPF           FORNECEDOR                       DOCUMENTO DATA        VALOR_REEMBOLSADO  \n",
       "2016 1   ACIR GURGACZ Aluguel de imóveis para escritório político, co... 05.914.650/0001-66 ELETROBRÁS DISTRIBUIÇÃO RONDÔNIA 000011328 13/01/2016               73,6  \n",
       "                                                                                                                             000011327 18/01/2016             206,84  \n",
       "                                                                         004.948.028-63     GILBERTO PISELO DO NASCIMENTO    001/16    04/01/2016               6000  \n",
       "                                                                         05.423.963/0001-11 OI MÓVEL S.A.                    661639001 16/01/2016             407,48  "
      ]
     },
     "execution_count": 6,
     "metadata": {},
     "output_type": "execute_result"
    }
   ],
   "source": [
    "df.head()"
   ]
  },
  {
   "cell_type": "markdown",
   "metadata": {},
   "source": [
    "- É necessário **remover** a 1ª linha do dataset."
   ]
  },
  {
   "cell_type": "code",
   "execution_count": 7,
   "metadata": {},
   "outputs": [
    {
     "name": "stdout",
     "output_type": "stream",
     "text": [
      "Tokenization took: 24.16 ms\n",
      "Type conversion took: 59.51 ms\n",
      "Parser memory cleanup took: 0.01 ms\n",
      "CPU times: user 83.3 ms, sys: 11.7 ms, total: 95 ms\n",
      "Wall time: 93.1 ms\n"
     ]
    }
   ],
   "source": [
    "%%time\n",
    "\n",
    "df = pd.read_csv('data_base/2016.csv', \n",
    "                  encoding='latin1',\n",
    "                  delimiter=';', \n",
    "                  header=1, # start df\n",
    "                  verbose=True)"
   ]
  },
  {
   "cell_type": "code",
   "execution_count": 8,
   "metadata": {},
   "outputs": [
    {
     "name": "stdout",
     "output_type": "stream",
     "text": [
      "<class 'pandas.core.frame.DataFrame'>\n",
      "RangeIndex: 26691 entries, 0 to 26690\n",
      "Data columns (total 10 columns):\n",
      "ANO                  26691 non-null int64\n",
      "MES                  26691 non-null int64\n",
      "SENADOR              26691 non-null object\n",
      "TIPO_DESPESA         26691 non-null object\n",
      "CNPJ_CPF             26691 non-null object\n",
      "FORNECEDOR           26691 non-null object\n",
      "DOCUMENTO            24647 non-null object\n",
      "DATA                 26691 non-null object\n",
      "DETALHAMENTO         21308 non-null object\n",
      "VALOR_REEMBOLSADO    26691 non-null object\n",
      "dtypes: int64(2), object(8)\n",
      "memory usage: 2.0+ MB\n"
     ]
    }
   ],
   "source": [
    "df.info()"
   ]
  },
  {
   "cell_type": "code",
   "execution_count": 9,
   "metadata": {},
   "outputs": [
    {
     "data": {
      "text/html": [
       "<div>\n",
       "<style scoped>\n",
       "    .dataframe tbody tr th:only-of-type {\n",
       "        vertical-align: middle;\n",
       "    }\n",
       "\n",
       "    .dataframe tbody tr th {\n",
       "        vertical-align: top;\n",
       "    }\n",
       "\n",
       "    .dataframe thead th {\n",
       "        text-align: right;\n",
       "    }\n",
       "</style>\n",
       "<table border=\"1\" class=\"dataframe\">\n",
       "  <thead>\n",
       "    <tr style=\"text-align: right;\">\n",
       "      <th></th>\n",
       "      <th>ANO</th>\n",
       "      <th>MES</th>\n",
       "    </tr>\n",
       "  </thead>\n",
       "  <tbody>\n",
       "    <tr>\n",
       "      <th>count</th>\n",
       "      <td>26691.0</td>\n",
       "      <td>26691.000000</td>\n",
       "    </tr>\n",
       "    <tr>\n",
       "      <th>mean</th>\n",
       "      <td>2016.0</td>\n",
       "      <td>6.470908</td>\n",
       "    </tr>\n",
       "    <tr>\n",
       "      <th>std</th>\n",
       "      <td>0.0</td>\n",
       "      <td>3.257134</td>\n",
       "    </tr>\n",
       "    <tr>\n",
       "      <th>min</th>\n",
       "      <td>2016.0</td>\n",
       "      <td>1.000000</td>\n",
       "    </tr>\n",
       "    <tr>\n",
       "      <th>25%</th>\n",
       "      <td>2016.0</td>\n",
       "      <td>4.000000</td>\n",
       "    </tr>\n",
       "    <tr>\n",
       "      <th>50%</th>\n",
       "      <td>2016.0</td>\n",
       "      <td>6.000000</td>\n",
       "    </tr>\n",
       "    <tr>\n",
       "      <th>75%</th>\n",
       "      <td>2016.0</td>\n",
       "      <td>9.000000</td>\n",
       "    </tr>\n",
       "    <tr>\n",
       "      <th>max</th>\n",
       "      <td>2016.0</td>\n",
       "      <td>12.000000</td>\n",
       "    </tr>\n",
       "  </tbody>\n",
       "</table>\n",
       "</div>"
      ],
      "text/plain": [
       "           ANO           MES\n",
       "count  26691.0  26691.000000\n",
       "mean    2016.0      6.470908\n",
       "std        0.0      3.257134\n",
       "min     2016.0      1.000000\n",
       "25%     2016.0      4.000000\n",
       "50%     2016.0      6.000000\n",
       "75%     2016.0      9.000000\n",
       "max     2016.0     12.000000"
      ]
     },
     "execution_count": 9,
     "metadata": {},
     "output_type": "execute_result"
    }
   ],
   "source": [
    "df.describe()"
   ]
  },
  {
   "cell_type": "code",
   "execution_count": 10,
   "metadata": {},
   "outputs": [
    {
     "data": {
      "text/html": [
       "<div>\n",
       "<style scoped>\n",
       "    .dataframe tbody tr th:only-of-type {\n",
       "        vertical-align: middle;\n",
       "    }\n",
       "\n",
       "    .dataframe tbody tr th {\n",
       "        vertical-align: top;\n",
       "    }\n",
       "\n",
       "    .dataframe thead th {\n",
       "        text-align: right;\n",
       "    }\n",
       "</style>\n",
       "<table border=\"1\" class=\"dataframe\">\n",
       "  <thead>\n",
       "    <tr style=\"text-align: right;\">\n",
       "      <th></th>\n",
       "      <th>SENADOR</th>\n",
       "      <th>TIPO_DESPESA</th>\n",
       "      <th>CNPJ_CPF</th>\n",
       "      <th>FORNECEDOR</th>\n",
       "      <th>DOCUMENTO</th>\n",
       "      <th>DATA</th>\n",
       "      <th>DETALHAMENTO</th>\n",
       "      <th>VALOR_REEMBOLSADO</th>\n",
       "    </tr>\n",
       "  </thead>\n",
       "  <tbody>\n",
       "    <tr>\n",
       "      <th>count</th>\n",
       "      <td>26691</td>\n",
       "      <td>26691</td>\n",
       "      <td>26691</td>\n",
       "      <td>26691</td>\n",
       "      <td>24647</td>\n",
       "      <td>26691</td>\n",
       "      <td>21308</td>\n",
       "      <td>26691</td>\n",
       "    </tr>\n",
       "    <tr>\n",
       "      <th>unique</th>\n",
       "      <td>93</td>\n",
       "      <td>7</td>\n",
       "      <td>3859</td>\n",
       "      <td>4319</td>\n",
       "      <td>22521</td>\n",
       "      <td>483</td>\n",
       "      <td>12284</td>\n",
       "      <td>14128</td>\n",
       "    </tr>\n",
       "    <tr>\n",
       "      <th>top</th>\n",
       "      <td>WELLINGTON FAGUNDES</td>\n",
       "      <td>Locomoção, hospedagem, alimentação, combustíve...</td>\n",
       "      <td>16.978.175/0001-08</td>\n",
       "      <td>LATAM</td>\n",
       "      <td>s/n</td>\n",
       "      <td>01/06/2016</td>\n",
       "      <td>Aquisição de combustível para veículos utiliza...</td>\n",
       "      <td>100</td>\n",
       "    </tr>\n",
       "    <tr>\n",
       "      <th>freq</th>\n",
       "      <td>925</td>\n",
       "      <td>10326</td>\n",
       "      <td>1736</td>\n",
       "      <td>698</td>\n",
       "      <td>121</td>\n",
       "      <td>200</td>\n",
       "      <td>567</td>\n",
       "      <td>658</td>\n",
       "    </tr>\n",
       "  </tbody>\n",
       "</table>\n",
       "</div>"
      ],
      "text/plain": [
       "                    SENADOR  \\\n",
       "count                 26691   \n",
       "unique                   93   \n",
       "top     WELLINGTON FAGUNDES   \n",
       "freq                    925   \n",
       "\n",
       "                                             TIPO_DESPESA            CNPJ_CPF  \\\n",
       "count                                               26691               26691   \n",
       "unique                                                  7                3859   \n",
       "top     Locomoção, hospedagem, alimentação, combustíve...  16.978.175/0001-08   \n",
       "freq                                                10326                1736   \n",
       "\n",
       "       FORNECEDOR DOCUMENTO        DATA  \\\n",
       "count       26691     24647       26691   \n",
       "unique       4319     22521         483   \n",
       "top         LATAM       s/n  01/06/2016   \n",
       "freq          698       121         200   \n",
       "\n",
       "                                             DETALHAMENTO VALOR_REEMBOLSADO  \n",
       "count                                               21308             26691  \n",
       "unique                                              12284             14128  \n",
       "top     Aquisição de combustível para veículos utiliza...               100  \n",
       "freq                                                  567               658  "
      ]
     },
     "execution_count": 10,
     "metadata": {},
     "output_type": "execute_result"
    }
   ],
   "source": [
    "df.describe(include = ['object'])"
   ]
  },
  {
   "cell_type": "code",
   "execution_count": 11,
   "metadata": {},
   "outputs": [
    {
     "name": "stdout",
     "output_type": "stream",
     "text": [
      "ANO                   int64\n",
      "MES                   int64\n",
      "SENADOR              object\n",
      "TIPO_DESPESA         object\n",
      "CNPJ_CPF             object\n",
      "FORNECEDOR           object\n",
      "DOCUMENTO            object\n",
      "DATA                 object\n",
      "DETALHAMENTO         object\n",
      "VALOR_REEMBOLSADO    object\n",
      "dtype: object\n"
     ]
    }
   ],
   "source": [
    "print(df.dtypes)"
   ]
  },
  {
   "cell_type": "code",
   "execution_count": 12,
   "metadata": {},
   "outputs": [
    {
     "data": {
      "text/plain": [
       "(26691, 10)"
      ]
     },
     "execution_count": 12,
     "metadata": {},
     "output_type": "execute_result"
    }
   ],
   "source": [
    "df.shape"
   ]
  },
  {
   "cell_type": "markdown",
   "metadata": {},
   "source": [
    "### Notas\n",
    "- Os dados estão com formato de `;`\n",
    "- Coluna `SENADOR` é o _target_\n",
    "- Há 10 colunas\n",
    "- 26691 linhas\n",
    "- A data com maior número de pedido de reembolso foi 01/06/2016, por quê?\n",
    "- Analisando as variáveis que temos para trabalhar é possível notar que será necessário converter algumas colunas de String para tipo numérico e assim conseguir aplicar alguma técnica de análise.\n",
    "- É possível ter valores _missing_ pois nem todas as colunas tem o mesmo número de linhas.\n",
    "- Analisar o SENADOR 90, pois é quem masi teve pedidos de reembolso nesse ano.\n",
    "\n",
    "### Análise das _features_\n",
    "- ANO(int64)\n",
    "- MES(int64)\n",
    "- SENADOR: há 93 senadores\n",
    "- TIPO_DESPESA: 7 tipos de dispesas diferentes\n",
    "- CNPJ_CPF(object): de quem prestou o serviço\n",
    "- FORNECEDOR: há 4319 fornecedores diferentes\n",
    "- DOCUMENTO(object)\n",
    "- DATA: data da dispesa\n",
    "- DETALHAMENTO(object)\n",
    "- VALOR_REEMBOLSADO: valor reembolsado\n",
    "\n",
    "---"
   ]
  },
  {
   "cell_type": "markdown",
   "metadata": {},
   "source": [
    "## 4 STEP) Data Cleanning\n",
    "- Types convert\n",
    "- Check outliers\n",
    "- Check missing values\n",
    "- Check unique values\n",
    "- Check duplicate\n",
    "- Check irrelevant data"
   ]
  },
  {
   "cell_type": "markdown",
   "metadata": {},
   "source": [
    "### Types convert\n",
    "- datas devem ser do tipo `date`\n",
    "- senadores devem ser do tipo `int`\n",
    "- valor de reemboloso deve ser do tipo `float`\n",
    "- tipo de despesa deve ser do tipo `int`"
   ]
  },
  {
   "cell_type": "code",
   "execution_count": 13,
   "metadata": {
    "scrolled": true
   },
   "outputs": [
    {
     "name": "stdout",
     "output_type": "stream",
     "text": [
      "number: senador_name\n",
      "1: ACIR GURGACZ\n",
      "2: AÉCIO NEVES\n",
      "3: ALOYSIO NUNES FERREIRA\n",
      "4: ALVARO DIAS\n",
      "5: ANA AMÉLIA\n",
      "6: ÂNGELA PORTELA\n",
      "7: ANTONIO ANASTASIA\n",
      "8: ANTÔNIO CARLOS VALADARES\n",
      "9: ARMANDO MONTEIRO\n",
      "10: ATAÍDES OLIVEIRA\n",
      "11: BENEDITO DE LIRA\n",
      "12: BLAIRO MAGGI\n",
      "13: CÁSSIO CUNHA LIMA\n",
      "14: CIDINHO SANTOS\n",
      "15: CIRO NOGUEIRA\n",
      "16: CRISTOVAM BUARQUE\n",
      "17: DALIRIO BEBER\n",
      "18: DÁRIO BERGER\n",
      "19: DAVI ALCOLUMBRE\n",
      "20: DECA\n",
      "21: DONIZETI NOGUEIRA\n",
      "22: DOUGLAS CINTRA\n",
      "23: EDISON LOBÃO\n",
      "24: EDUARDO AMORIM\n",
      "25: EDUARDO BRAGA\n",
      "26: EDUARDO LOPES\n",
      "27: ELMANO FÉRRER\n",
      "28: FÁTIMA BEZERRA\n",
      "29: FERNANDO BEZERRA COELHO\n",
      "30: FERNANDO COLLOR\n",
      "31: FLEXA RIBEIRO\n",
      "32: GARIBALDI ALVES FILHO\n",
      "33: GILBERTO PISELO\n",
      "34: GLADSON CAMELI\n",
      "35: GLEISI HOFFMANN\n",
      "36: HÉLIO JOSÉ\n",
      "37: HUMBERTO COSTA\n",
      "38: IVO CASSOL\n",
      "39: JADER BARBALHO\n",
      "40: JOÃO ALBERTO SOUZA\n",
      "41: JOÃO CAPIBERIBE\n",
      "42: JORGE VIANA\n",
      "43: JOSÉ AGRIPINO\n",
      "44: JOSÉ ANÍBAL\n",
      "45: JOSÉ MARANHÃO\n",
      "46: JOSÉ MEDEIROS\n",
      "47: JOSÉ PIMENTEL\n",
      "48: JOSÉ SERRA\n",
      "49: KÁTIA ABREU\n",
      "50: LASIER MARTINS\n",
      "51: LÍDICE DA MATA\n",
      "52: LINDBERGH FARIAS\n",
      "53: LÚCIA VÂNIA\n",
      "54: MAGNO MALTA\n",
      "55: MARCELO CRIVELLA\n",
      "56: MARIA DO CARMO ALVES\n",
      "57: MARTA SUPLICY\n",
      "58: OMAR AZIZ\n",
      "59: OTTO ALENCAR\n",
      "60: PASTOR VALADARES\n",
      "61: PAULO BAUER\n",
      "62: PAULO PAIM\n",
      "63: PAULO ROCHA\n",
      "64: PEDRO CHAVES DOS SANTOS FILHO\n",
      "65: PINTO ITAMARATY\n",
      "66: RAIMUNDO LIRA\n",
      "67: RANDOLFE RODRIGUES\n",
      "68: REGINA SOUSA\n",
      "69: RENAN CALHEIROS\n",
      "70: RICARDO FERRAÇO\n",
      "71: RICARDO FRANCO\n",
      "72: ROBERTO MUNIZ\n",
      "73: ROBERTO REQUIÃO\n",
      "74: ROBERTO ROCHA\n",
      "75: ROMÁRIO\n",
      "76: ROMERO JUCÁ\n",
      "77: RONALDO CAIADO\n",
      "78: ROSE DE FREITAS\n",
      "79: SANDRA BRAGA\n",
      "80: SÉRGIO PETECÃO\n",
      "81: SIMONE TEBET\n",
      "82: TASSO JEREISSATI\n",
      "83: TELMÁRIO MOTA\n",
      "84: VALDIR RAUPP\n",
      "85: VANESSA GRAZZIOTIN\n",
      "86: VICENTINHO ALVES\n",
      "87: VIRGINIO DE CARVALHO\n",
      "88: WALDEMIR MOKA\n",
      "89: WALTER PINHEIRO\n",
      "90: WELLINGTON FAGUNDES\n",
      "91: WILDER MORAIS\n",
      "92: WIRLANDE DA LUZ\n",
      "93: ZEZÉ PERRELLA\n"
     ]
    }
   ],
   "source": [
    "# Mapping (name)String in (number)integer\n",
    "\n",
    "dict_name = {'senador_name': 'number'}\n",
    "value = 0\n",
    "for name in df['SENADOR']:\n",
    "    if (name in dict_name):\n",
    "        dict_name[name] = value\n",
    "    else:\n",
    "        value += 1\n",
    "        dict_name[name] = value\n",
    "\n",
    "# print dict\n",
    "for keys,values in dict_name.items():\n",
    "    print(values, end=': ')\n",
    "    print(keys) "
   ]
  },
  {
   "cell_type": "code",
   "execution_count": 14,
   "metadata": {
    "scrolled": true
   },
   "outputs": [
    {
     "data": {
      "text/html": [
       "<div>\n",
       "<style scoped>\n",
       "    .dataframe tbody tr th:only-of-type {\n",
       "        vertical-align: middle;\n",
       "    }\n",
       "\n",
       "    .dataframe tbody tr th {\n",
       "        vertical-align: top;\n",
       "    }\n",
       "\n",
       "    .dataframe thead th {\n",
       "        text-align: right;\n",
       "    }\n",
       "</style>\n",
       "<table border=\"1\" class=\"dataframe\">\n",
       "  <thead>\n",
       "    <tr style=\"text-align: right;\">\n",
       "      <th></th>\n",
       "      <th>ANO</th>\n",
       "      <th>MES</th>\n",
       "      <th>SENADOR</th>\n",
       "      <th>TIPO_DESPESA</th>\n",
       "      <th>CNPJ_CPF</th>\n",
       "      <th>FORNECEDOR</th>\n",
       "      <th>DOCUMENTO</th>\n",
       "      <th>DATA</th>\n",
       "      <th>DETALHAMENTO</th>\n",
       "      <th>VALOR_REEMBOLSADO</th>\n",
       "    </tr>\n",
       "  </thead>\n",
       "  <tbody>\n",
       "    <tr>\n",
       "      <th>0</th>\n",
       "      <td>2016</td>\n",
       "      <td>1</td>\n",
       "      <td>1</td>\n",
       "      <td>Aluguel de imóveis para escritório político, c...</td>\n",
       "      <td>05.914.650/0001-66</td>\n",
       "      <td>ELETROBRÁS DISTRIBUIÇÃO RONDÔNIA</td>\n",
       "      <td>000011328</td>\n",
       "      <td>13/01/2016</td>\n",
       "      <td>Despesa com pagamento de energia elétrica para...</td>\n",
       "      <td>73,6</td>\n",
       "    </tr>\n",
       "    <tr>\n",
       "      <th>1</th>\n",
       "      <td>2016</td>\n",
       "      <td>1</td>\n",
       "      <td>1</td>\n",
       "      <td>Aluguel de imóveis para escritório político, c...</td>\n",
       "      <td>05.914.650/0001-66</td>\n",
       "      <td>ELETROBRÁS DISTRIBUIÇÃO RONDÔNIA</td>\n",
       "      <td>000011327</td>\n",
       "      <td>18/01/2016</td>\n",
       "      <td>Pagamento de energia elétrica para o escritóri...</td>\n",
       "      <td>206,84</td>\n",
       "    </tr>\n",
       "    <tr>\n",
       "      <th>2</th>\n",
       "      <td>2016</td>\n",
       "      <td>1</td>\n",
       "      <td>1</td>\n",
       "      <td>Aluguel de imóveis para escritório político, c...</td>\n",
       "      <td>004.948.028-63</td>\n",
       "      <td>GILBERTO PISELO DO NASCIMENTO</td>\n",
       "      <td>001/16</td>\n",
       "      <td>04/01/2016</td>\n",
       "      <td>Despesa com pagamento de aluguel, utilizado pa...</td>\n",
       "      <td>6000</td>\n",
       "    </tr>\n",
       "    <tr>\n",
       "      <th>3</th>\n",
       "      <td>2016</td>\n",
       "      <td>1</td>\n",
       "      <td>1</td>\n",
       "      <td>Aluguel de imóveis para escritório político, c...</td>\n",
       "      <td>05.423.963/0001-11</td>\n",
       "      <td>OI MÓVEL S.A.</td>\n",
       "      <td>661639001</td>\n",
       "      <td>16/01/2016</td>\n",
       "      <td>despesa com pagamento de telefonia para o escr...</td>\n",
       "      <td>407,48</td>\n",
       "    </tr>\n",
       "    <tr>\n",
       "      <th>4</th>\n",
       "      <td>2016</td>\n",
       "      <td>1</td>\n",
       "      <td>1</td>\n",
       "      <td>Aquisição de material de consumo para uso no e...</td>\n",
       "      <td>62.652.961/0001-38</td>\n",
       "      <td>AGÊNCIA ESTADO S.A.</td>\n",
       "      <td>00608918</td>\n",
       "      <td>06/01/2016</td>\n",
       "      <td>Aquisição de publicação virtual de conteúdo jo...</td>\n",
       "      <td>550</td>\n",
       "    </tr>\n",
       "    <tr>\n",
       "      <th>5</th>\n",
       "      <td>2016</td>\n",
       "      <td>1</td>\n",
       "      <td>1</td>\n",
       "      <td>Contratação de consultorias, assessorias, pesq...</td>\n",
       "      <td>22.787.742/0001-41</td>\n",
       "      <td>RONDOINFO DIST. DE PROD. DE INFORMATICA LTDA EPP</td>\n",
       "      <td>312</td>\n",
       "      <td>13/01/2016</td>\n",
       "      <td>NaN</td>\n",
       "      <td>40</td>\n",
       "    </tr>\n",
       "    <tr>\n",
       "      <th>6</th>\n",
       "      <td>2016</td>\n",
       "      <td>1</td>\n",
       "      <td>1</td>\n",
       "      <td>Locomoção, hospedagem, alimentação, combustíve...</td>\n",
       "      <td>34.274.233/0097-46</td>\n",
       "      <td>PETROBRAS DISTRIBUIDORA</td>\n",
       "      <td>000570293</td>\n",
       "      <td>19/01/2016</td>\n",
       "      <td>Despesa com aquisição de combustível para abas...</td>\n",
       "      <td>1218,76</td>\n",
       "    </tr>\n",
       "    <tr>\n",
       "      <th>7</th>\n",
       "      <td>2016</td>\n",
       "      <td>1</td>\n",
       "      <td>1</td>\n",
       "      <td>Locomoção, hospedagem, alimentação, combustíve...</td>\n",
       "      <td>34.274.233/0097-46</td>\n",
       "      <td>PETROBRAS DISTRIBUIDORA</td>\n",
       "      <td>000570326</td>\n",
       "      <td>19/01/2016</td>\n",
       "      <td>Despesa com aquisição de combustível para abas...</td>\n",
       "      <td>1761,34</td>\n",
       "    </tr>\n",
       "    <tr>\n",
       "      <th>8</th>\n",
       "      <td>2016</td>\n",
       "      <td>1</td>\n",
       "      <td>1</td>\n",
       "      <td>Locomoção, hospedagem, alimentação, combustíve...</td>\n",
       "      <td>34.274.233/0097-46</td>\n",
       "      <td>PETROBRAS DISTRIBUIDORA</td>\n",
       "      <td>000570688</td>\n",
       "      <td>21/01/2016</td>\n",
       "      <td>Despesa com aquisição de combustível para abas...</td>\n",
       "      <td>451,18</td>\n",
       "    </tr>\n",
       "    <tr>\n",
       "      <th>9</th>\n",
       "      <td>2016</td>\n",
       "      <td>1</td>\n",
       "      <td>1</td>\n",
       "      <td>Locomoção, hospedagem, alimentação, combustíve...</td>\n",
       "      <td>34.274.233/0097-46</td>\n",
       "      <td>PETROBRAS DISTRIBUIDORA</td>\n",
       "      <td>000570743</td>\n",
       "      <td>21/01/2016</td>\n",
       "      <td>Despesa com aquisição de combustível para abas...</td>\n",
       "      <td>923,3</td>\n",
       "    </tr>\n",
       "    <tr>\n",
       "      <th>10</th>\n",
       "      <td>2016</td>\n",
       "      <td>1</td>\n",
       "      <td>1</td>\n",
       "      <td>Locomoção, hospedagem, alimentação, combustíve...</td>\n",
       "      <td>34.274.233/0097-46</td>\n",
       "      <td>PETROBRAS DISTRIBUIDORA</td>\n",
       "      <td>000571251</td>\n",
       "      <td>25/01/2016</td>\n",
       "      <td>Despesa com aquisição de combustível para abas...</td>\n",
       "      <td>373,01</td>\n",
       "    </tr>\n",
       "    <tr>\n",
       "      <th>11</th>\n",
       "      <td>2016</td>\n",
       "      <td>1</td>\n",
       "      <td>1</td>\n",
       "      <td>Passagens aéreas, aquáticas e terrestres nacio...</td>\n",
       "      <td>63.764.211/0001-10</td>\n",
       "      <td>TRANSCONTINENTAL AGÊNCIA DE VIAGENS LTDA</td>\n",
       "      <td>NaN</td>\n",
       "      <td>08/01/2016</td>\n",
       "      <td>Companhia Aérea: TAM, Localizador: 8JUTEK. Pas...</td>\n",
       "      <td>552,74</td>\n",
       "    </tr>\n",
       "    <tr>\n",
       "      <th>12</th>\n",
       "      <td>2016</td>\n",
       "      <td>1</td>\n",
       "      <td>1</td>\n",
       "      <td>Passagens aéreas, aquáticas e terrestres nacio...</td>\n",
       "      <td>63.764.211/0001-10</td>\n",
       "      <td>TRANSCONTINENTAL AGÊNCIA DE VIAGENS LTDA</td>\n",
       "      <td>NaN</td>\n",
       "      <td>14/01/2016</td>\n",
       "      <td>Companhia Aérea: TAM, Localizador: 8SY8MN. Pas...</td>\n",
       "      <td>1276,43</td>\n",
       "    </tr>\n",
       "    <tr>\n",
       "      <th>13</th>\n",
       "      <td>2016</td>\n",
       "      <td>1</td>\n",
       "      <td>1</td>\n",
       "      <td>Passagens aéreas, aquáticas e terrestres nacio...</td>\n",
       "      <td>63.764.211/0001-10</td>\n",
       "      <td>TRANSCONTINENTAL AGÊNCIA DE VIAGENS LTDA</td>\n",
       "      <td>NaN</td>\n",
       "      <td>18/01/2016</td>\n",
       "      <td>Companhia Aérea: TAM, Localizador: X29IR3. Pas...</td>\n",
       "      <td>1469,05</td>\n",
       "    </tr>\n",
       "    <tr>\n",
       "      <th>14</th>\n",
       "      <td>2016</td>\n",
       "      <td>2</td>\n",
       "      <td>1</td>\n",
       "      <td>Aluguel de imóveis para escritório político, c...</td>\n",
       "      <td>05.914.650/0001-66</td>\n",
       "      <td>ELETROBRÁS DISTRIBUIÇÃO RONDÔNIA</td>\n",
       "      <td>000022946</td>\n",
       "      <td>15/02/2016</td>\n",
       "      <td>Despesa com pagamento de energia elétrica para...</td>\n",
       "      <td>72,59</td>\n",
       "    </tr>\n",
       "    <tr>\n",
       "      <th>15</th>\n",
       "      <td>2016</td>\n",
       "      <td>2</td>\n",
       "      <td>1</td>\n",
       "      <td>Aluguel de imóveis para escritório político, c...</td>\n",
       "      <td>05.914.650/0001-66</td>\n",
       "      <td>ELETROBRÁS DISTRIBUIÇÃO RONDÔNIA</td>\n",
       "      <td>000022945</td>\n",
       "      <td>18/02/2016</td>\n",
       "      <td>Despesa com pagamento de energia elétrica para...</td>\n",
       "      <td>315,6</td>\n",
       "    </tr>\n",
       "    <tr>\n",
       "      <th>16</th>\n",
       "      <td>2016</td>\n",
       "      <td>2</td>\n",
       "      <td>1</td>\n",
       "      <td>Aluguel de imóveis para escritório político, c...</td>\n",
       "      <td>004.948.028-63</td>\n",
       "      <td>GILBERTO PISELO DO NASCIMENTO</td>\n",
       "      <td>002/16</td>\n",
       "      <td>03/02/2016</td>\n",
       "      <td>Despesa com pagamento de aluguel, utilizado co...</td>\n",
       "      <td>6000</td>\n",
       "    </tr>\n",
       "    <tr>\n",
       "      <th>17</th>\n",
       "      <td>2016</td>\n",
       "      <td>2</td>\n",
       "      <td>1</td>\n",
       "      <td>Aluguel de imóveis para escritório político, c...</td>\n",
       "      <td>05.423.963/0001-11</td>\n",
       "      <td>OI MÓVEL S.A.</td>\n",
       "      <td>667792742</td>\n",
       "      <td>06/02/2016</td>\n",
       "      <td>Pagamento de telefone fixo e móvel para uso do...</td>\n",
       "      <td>439,96</td>\n",
       "    </tr>\n",
       "    <tr>\n",
       "      <th>18</th>\n",
       "      <td>2016</td>\n",
       "      <td>2</td>\n",
       "      <td>1</td>\n",
       "      <td>Aquisição de material de consumo para uso no e...</td>\n",
       "      <td>62.652.961/0001-38</td>\n",
       "      <td>AGÊNCIA ESTADO S.A.</td>\n",
       "      <td>00611186</td>\n",
       "      <td>02/02/2016</td>\n",
       "      <td>Aquisição de publicação virtual de conteúdo jo...</td>\n",
       "      <td>550</td>\n",
       "    </tr>\n",
       "    <tr>\n",
       "      <th>19</th>\n",
       "      <td>2016</td>\n",
       "      <td>2</td>\n",
       "      <td>1</td>\n",
       "      <td>Divulgação da atividade parlamentar</td>\n",
       "      <td>02.147.085/0001-60</td>\n",
       "      <td>ASSOCIAÇÃO COMUNITÁRIA JIPARANAENSE - ASCOJIPA</td>\n",
       "      <td>694</td>\n",
       "      <td>15/02/2016</td>\n",
       "      <td>Divulgação da atividade parlamentar</td>\n",
       "      <td>300</td>\n",
       "    </tr>\n",
       "  </tbody>\n",
       "</table>\n",
       "</div>"
      ],
      "text/plain": [
       "     ANO  MES SENADOR                                       TIPO_DESPESA  \\\n",
       "0   2016    1       1  Aluguel de imóveis para escritório político, c...   \n",
       "1   2016    1       1  Aluguel de imóveis para escritório político, c...   \n",
       "2   2016    1       1  Aluguel de imóveis para escritório político, c...   \n",
       "3   2016    1       1  Aluguel de imóveis para escritório político, c...   \n",
       "4   2016    1       1  Aquisição de material de consumo para uso no e...   \n",
       "5   2016    1       1  Contratação de consultorias, assessorias, pesq...   \n",
       "6   2016    1       1  Locomoção, hospedagem, alimentação, combustíve...   \n",
       "7   2016    1       1  Locomoção, hospedagem, alimentação, combustíve...   \n",
       "8   2016    1       1  Locomoção, hospedagem, alimentação, combustíve...   \n",
       "9   2016    1       1  Locomoção, hospedagem, alimentação, combustíve...   \n",
       "10  2016    1       1  Locomoção, hospedagem, alimentação, combustíve...   \n",
       "11  2016    1       1  Passagens aéreas, aquáticas e terrestres nacio...   \n",
       "12  2016    1       1  Passagens aéreas, aquáticas e terrestres nacio...   \n",
       "13  2016    1       1  Passagens aéreas, aquáticas e terrestres nacio...   \n",
       "14  2016    2       1  Aluguel de imóveis para escritório político, c...   \n",
       "15  2016    2       1  Aluguel de imóveis para escritório político, c...   \n",
       "16  2016    2       1  Aluguel de imóveis para escritório político, c...   \n",
       "17  2016    2       1  Aluguel de imóveis para escritório político, c...   \n",
       "18  2016    2       1  Aquisição de material de consumo para uso no e...   \n",
       "19  2016    2       1                Divulgação da atividade parlamentar   \n",
       "\n",
       "              CNPJ_CPF                                        FORNECEDOR  \\\n",
       "0   05.914.650/0001-66                  ELETROBRÁS DISTRIBUIÇÃO RONDÔNIA   \n",
       "1   05.914.650/0001-66                  ELETROBRÁS DISTRIBUIÇÃO RONDÔNIA   \n",
       "2       004.948.028-63                     GILBERTO PISELO DO NASCIMENTO   \n",
       "3   05.423.963/0001-11                                     OI MÓVEL S.A.   \n",
       "4   62.652.961/0001-38                               AGÊNCIA ESTADO S.A.   \n",
       "5   22.787.742/0001-41  RONDOINFO DIST. DE PROD. DE INFORMATICA LTDA EPP   \n",
       "6   34.274.233/0097-46                           PETROBRAS DISTRIBUIDORA   \n",
       "7   34.274.233/0097-46                           PETROBRAS DISTRIBUIDORA   \n",
       "8   34.274.233/0097-46                           PETROBRAS DISTRIBUIDORA   \n",
       "9   34.274.233/0097-46                           PETROBRAS DISTRIBUIDORA   \n",
       "10  34.274.233/0097-46                           PETROBRAS DISTRIBUIDORA   \n",
       "11  63.764.211/0001-10          TRANSCONTINENTAL AGÊNCIA DE VIAGENS LTDA   \n",
       "12  63.764.211/0001-10          TRANSCONTINENTAL AGÊNCIA DE VIAGENS LTDA   \n",
       "13  63.764.211/0001-10          TRANSCONTINENTAL AGÊNCIA DE VIAGENS LTDA   \n",
       "14  05.914.650/0001-66                  ELETROBRÁS DISTRIBUIÇÃO RONDÔNIA   \n",
       "15  05.914.650/0001-66                  ELETROBRÁS DISTRIBUIÇÃO RONDÔNIA   \n",
       "16      004.948.028-63                     GILBERTO PISELO DO NASCIMENTO   \n",
       "17  05.423.963/0001-11                                     OI MÓVEL S.A.   \n",
       "18  62.652.961/0001-38                               AGÊNCIA ESTADO S.A.   \n",
       "19  02.147.085/0001-60    ASSOCIAÇÃO COMUNITÁRIA JIPARANAENSE - ASCOJIPA   \n",
       "\n",
       "    DOCUMENTO        DATA                                       DETALHAMENTO  \\\n",
       "0   000011328  13/01/2016  Despesa com pagamento de energia elétrica para...   \n",
       "1   000011327  18/01/2016  Pagamento de energia elétrica para o escritóri...   \n",
       "2      001/16  04/01/2016  Despesa com pagamento de aluguel, utilizado pa...   \n",
       "3   661639001  16/01/2016  despesa com pagamento de telefonia para o escr...   \n",
       "4    00608918  06/01/2016  Aquisição de publicação virtual de conteúdo jo...   \n",
       "5         312  13/01/2016                                                NaN   \n",
       "6   000570293  19/01/2016  Despesa com aquisição de combustível para abas...   \n",
       "7   000570326  19/01/2016  Despesa com aquisição de combustível para abas...   \n",
       "8   000570688  21/01/2016  Despesa com aquisição de combustível para abas...   \n",
       "9   000570743  21/01/2016  Despesa com aquisição de combustível para abas...   \n",
       "10  000571251  25/01/2016  Despesa com aquisição de combustível para abas...   \n",
       "11        NaN  08/01/2016  Companhia Aérea: TAM, Localizador: 8JUTEK. Pas...   \n",
       "12        NaN  14/01/2016  Companhia Aérea: TAM, Localizador: 8SY8MN. Pas...   \n",
       "13        NaN  18/01/2016  Companhia Aérea: TAM, Localizador: X29IR3. Pas...   \n",
       "14  000022946  15/02/2016  Despesa com pagamento de energia elétrica para...   \n",
       "15  000022945  18/02/2016  Despesa com pagamento de energia elétrica para...   \n",
       "16     002/16  03/02/2016  Despesa com pagamento de aluguel, utilizado co...   \n",
       "17  667792742  06/02/2016  Pagamento de telefone fixo e móvel para uso do...   \n",
       "18   00611186  02/02/2016  Aquisição de publicação virtual de conteúdo jo...   \n",
       "19        694  15/02/2016                Divulgação da atividade parlamentar   \n",
       "\n",
       "   VALOR_REEMBOLSADO  \n",
       "0               73,6  \n",
       "1             206,84  \n",
       "2               6000  \n",
       "3             407,48  \n",
       "4                550  \n",
       "5                 40  \n",
       "6            1218,76  \n",
       "7            1761,34  \n",
       "8             451,18  \n",
       "9              923,3  \n",
       "10            373,01  \n",
       "11            552,74  \n",
       "12           1276,43  \n",
       "13           1469,05  \n",
       "14             72,59  \n",
       "15             315,6  \n",
       "16              6000  \n",
       "17            439,96  \n",
       "18               550  \n",
       "19               300  "
      ]
     },
     "execution_count": 14,
     "metadata": {},
     "output_type": "execute_result"
    }
   ],
   "source": [
    "# Replace dictionary in collumn SENADOR\n",
    "\n",
    "df['SENADOR'] = df['SENADOR'].map(dict_name) \n",
    "df.head(20)"
   ]
  },
  {
   "cell_type": "code",
   "execution_count": 15,
   "metadata": {},
   "outputs": [
    {
     "data": {
      "text/plain": [
       "array(['Aluguel de imóveis para escritório político, compreendendo despesas concernentes a eles.',\n",
       "       'Aquisição de material de consumo para uso no escritório político, inclusive aquisição ou locação de software, despesas postais, aquisição de publicações, locação de móveis e de equipamentos. ',\n",
       "       'Contratação de consultorias, assessorias, pesquisas, trabalhos técnicos e outros serviços de apoio ao exercício do mandato parlamentar',\n",
       "       'Locomoção, hospedagem, alimentação, combustíveis e lubrificantes',\n",
       "       'Passagens aéreas, aquáticas e terrestres nacionais',\n",
       "       'Divulgação da atividade parlamentar',\n",
       "       'Serviços de Segurança Privada'], dtype=object)"
      ]
     },
     "execution_count": 15,
     "metadata": {},
     "output_type": "execute_result"
    }
   ],
   "source": [
    "df['TIPO_DESPESA'].unique()"
   ]
  },
  {
   "cell_type": "code",
   "execution_count": 16,
   "metadata": {
    "scrolled": true
   },
   "outputs": [
    {
     "data": {
      "text/html": [
       "<div>\n",
       "<style scoped>\n",
       "    .dataframe tbody tr th:only-of-type {\n",
       "        vertical-align: middle;\n",
       "    }\n",
       "\n",
       "    .dataframe tbody tr th {\n",
       "        vertical-align: top;\n",
       "    }\n",
       "\n",
       "    .dataframe thead th {\n",
       "        text-align: right;\n",
       "    }\n",
       "</style>\n",
       "<table border=\"1\" class=\"dataframe\">\n",
       "  <thead>\n",
       "    <tr style=\"text-align: right;\">\n",
       "      <th></th>\n",
       "      <th>ANO</th>\n",
       "      <th>MES</th>\n",
       "      <th>SENADOR</th>\n",
       "      <th>TIPO_DESPESA</th>\n",
       "      <th>CNPJ_CPF</th>\n",
       "      <th>FORNECEDOR</th>\n",
       "      <th>DOCUMENTO</th>\n",
       "      <th>DATA</th>\n",
       "      <th>DETALHAMENTO</th>\n",
       "      <th>VALOR_REEMBOLSADO</th>\n",
       "    </tr>\n",
       "  </thead>\n",
       "  <tbody>\n",
       "    <tr>\n",
       "      <th>0</th>\n",
       "      <td>2016</td>\n",
       "      <td>1</td>\n",
       "      <td>1</td>\n",
       "      <td>Aluguel</td>\n",
       "      <td>05.914.650/0001-66</td>\n",
       "      <td>ELETROBRÁS DISTRIBUIÇÃO RONDÔNIA</td>\n",
       "      <td>000011328</td>\n",
       "      <td>13/01/2016</td>\n",
       "      <td>Despesa com pagamento de energia elétrica para...</td>\n",
       "      <td>73,6</td>\n",
       "    </tr>\n",
       "    <tr>\n",
       "      <th>1</th>\n",
       "      <td>2016</td>\n",
       "      <td>1</td>\n",
       "      <td>1</td>\n",
       "      <td>Aluguel</td>\n",
       "      <td>05.914.650/0001-66</td>\n",
       "      <td>ELETROBRÁS DISTRIBUIÇÃO RONDÔNIA</td>\n",
       "      <td>000011327</td>\n",
       "      <td>18/01/2016</td>\n",
       "      <td>Pagamento de energia elétrica para o escritóri...</td>\n",
       "      <td>206,84</td>\n",
       "    </tr>\n",
       "    <tr>\n",
       "      <th>2</th>\n",
       "      <td>2016</td>\n",
       "      <td>1</td>\n",
       "      <td>1</td>\n",
       "      <td>Aluguel</td>\n",
       "      <td>004.948.028-63</td>\n",
       "      <td>GILBERTO PISELO DO NASCIMENTO</td>\n",
       "      <td>001/16</td>\n",
       "      <td>04/01/2016</td>\n",
       "      <td>Despesa com pagamento de aluguel, utilizado pa...</td>\n",
       "      <td>6000</td>\n",
       "    </tr>\n",
       "    <tr>\n",
       "      <th>3</th>\n",
       "      <td>2016</td>\n",
       "      <td>1</td>\n",
       "      <td>1</td>\n",
       "      <td>Aluguel</td>\n",
       "      <td>05.423.963/0001-11</td>\n",
       "      <td>OI MÓVEL S.A.</td>\n",
       "      <td>661639001</td>\n",
       "      <td>16/01/2016</td>\n",
       "      <td>despesa com pagamento de telefonia para o escr...</td>\n",
       "      <td>407,48</td>\n",
       "    </tr>\n",
       "    <tr>\n",
       "      <th>4</th>\n",
       "      <td>2016</td>\n",
       "      <td>1</td>\n",
       "      <td>1</td>\n",
       "      <td>Despesas gerais</td>\n",
       "      <td>62.652.961/0001-38</td>\n",
       "      <td>AGÊNCIA ESTADO S.A.</td>\n",
       "      <td>00608918</td>\n",
       "      <td>06/01/2016</td>\n",
       "      <td>Aquisição de publicação virtual de conteúdo jo...</td>\n",
       "      <td>550</td>\n",
       "    </tr>\n",
       "  </tbody>\n",
       "</table>\n",
       "</div>"
      ],
      "text/plain": [
       "    ANO  MES SENADOR     TIPO_DESPESA            CNPJ_CPF  \\\n",
       "0  2016    1       1          Aluguel  05.914.650/0001-66   \n",
       "1  2016    1       1          Aluguel  05.914.650/0001-66   \n",
       "2  2016    1       1          Aluguel      004.948.028-63   \n",
       "3  2016    1       1          Aluguel  05.423.963/0001-11   \n",
       "4  2016    1       1  Despesas gerais  62.652.961/0001-38   \n",
       "\n",
       "                         FORNECEDOR  DOCUMENTO        DATA  \\\n",
       "0  ELETROBRÁS DISTRIBUIÇÃO RONDÔNIA  000011328  13/01/2016   \n",
       "1  ELETROBRÁS DISTRIBUIÇÃO RONDÔNIA  000011327  18/01/2016   \n",
       "2     GILBERTO PISELO DO NASCIMENTO     001/16  04/01/2016   \n",
       "3                     OI MÓVEL S.A.  661639001  16/01/2016   \n",
       "4               AGÊNCIA ESTADO S.A.   00608918  06/01/2016   \n",
       "\n",
       "                                        DETALHAMENTO VALOR_REEMBOLSADO  \n",
       "0  Despesa com pagamento de energia elétrica para...              73,6  \n",
       "1  Pagamento de energia elétrica para o escritóri...            206,84  \n",
       "2  Despesa com pagamento de aluguel, utilizado pa...              6000  \n",
       "3  despesa com pagamento de telefonia para o escr...            407,48  \n",
       "4  Aquisição de publicação virtual de conteúdo jo...               550  "
      ]
     },
     "execution_count": 16,
     "metadata": {},
     "output_type": "execute_result"
    }
   ],
   "source": [
    "# Mapping new values to collumn 'TIPO_DESPESA'\n",
    "\n",
    "df['TIPO_DESPESA'] = df['TIPO_DESPESA'].map({'Aluguel de imóveis para escritório político, compreendendo despesas concernentes a eles.': 'Aluguel',\n",
    "                                             'Aquisição de material de consumo para uso no escritório político, inclusive aquisição ou locação de software, despesas postais, aquisição de publicações, locação de móveis e de equipamentos. ': 'Despesas gerais',\n",
    "                                             'Contratação de consultorias, assessorias, pesquisas, trabalhos técnicos e outros serviços de apoio ao exercício do mandato parlamentar': 'Contratações',\n",
    "                                             'Locomoção, hospedagem, alimentação, combustíveis e lubrificantes': 'Locomoção, hospedagem e alimentação',\n",
    "                                             'Passagens aéreas, aquáticas e terrestres nacionais': 'Passagens',\n",
    "                                             'Divulgação da atividade parlamentar': 'Divulgação',\n",
    "                                             'Serviços de Segurança Privada': 'Segurança'})\n",
    "df.head()"
   ]
  },
  {
   "cell_type": "code",
   "execution_count": 17,
   "metadata": {},
   "outputs": [
    {
     "data": {
      "text/html": [
       "<div>\n",
       "<style scoped>\n",
       "    .dataframe tbody tr th:only-of-type {\n",
       "        vertical-align: middle;\n",
       "    }\n",
       "\n",
       "    .dataframe tbody tr th {\n",
       "        vertical-align: top;\n",
       "    }\n",
       "\n",
       "    .dataframe thead th {\n",
       "        text-align: right;\n",
       "    }\n",
       "</style>\n",
       "<table border=\"1\" class=\"dataframe\">\n",
       "  <thead>\n",
       "    <tr style=\"text-align: right;\">\n",
       "      <th></th>\n",
       "      <th>ANO</th>\n",
       "      <th>MES</th>\n",
       "      <th>SENADOR</th>\n",
       "      <th>TIPO_DESPESA</th>\n",
       "      <th>CNPJ_CPF</th>\n",
       "      <th>FORNECEDOR</th>\n",
       "      <th>DOCUMENTO</th>\n",
       "      <th>DATA</th>\n",
       "      <th>DETALHAMENTO</th>\n",
       "      <th>VALOR_REEMBOLSADO</th>\n",
       "    </tr>\n",
       "  </thead>\n",
       "  <tbody>\n",
       "    <tr>\n",
       "      <th>0</th>\n",
       "      <td>2016</td>\n",
       "      <td>1</td>\n",
       "      <td>1</td>\n",
       "      <td>Aluguel</td>\n",
       "      <td>05.914.650/0001-66</td>\n",
       "      <td>ELETROBRÁS DISTRIBUIÇÃO RONDÔNIA</td>\n",
       "      <td>000011328</td>\n",
       "      <td>13/01/2016</td>\n",
       "      <td>Despesa com pagamento de energia elétrica para...</td>\n",
       "      <td>73.6</td>\n",
       "    </tr>\n",
       "    <tr>\n",
       "      <th>1</th>\n",
       "      <td>2016</td>\n",
       "      <td>1</td>\n",
       "      <td>1</td>\n",
       "      <td>Aluguel</td>\n",
       "      <td>05.914.650/0001-66</td>\n",
       "      <td>ELETROBRÁS DISTRIBUIÇÃO RONDÔNIA</td>\n",
       "      <td>000011327</td>\n",
       "      <td>18/01/2016</td>\n",
       "      <td>Pagamento de energia elétrica para o escritóri...</td>\n",
       "      <td>206.84</td>\n",
       "    </tr>\n",
       "    <tr>\n",
       "      <th>2</th>\n",
       "      <td>2016</td>\n",
       "      <td>1</td>\n",
       "      <td>1</td>\n",
       "      <td>Aluguel</td>\n",
       "      <td>004.948.028-63</td>\n",
       "      <td>GILBERTO PISELO DO NASCIMENTO</td>\n",
       "      <td>001/16</td>\n",
       "      <td>04/01/2016</td>\n",
       "      <td>Despesa com pagamento de aluguel, utilizado pa...</td>\n",
       "      <td>6000</td>\n",
       "    </tr>\n",
       "    <tr>\n",
       "      <th>3</th>\n",
       "      <td>2016</td>\n",
       "      <td>1</td>\n",
       "      <td>1</td>\n",
       "      <td>Aluguel</td>\n",
       "      <td>05.423.963/0001-11</td>\n",
       "      <td>OI MÓVEL S.A.</td>\n",
       "      <td>661639001</td>\n",
       "      <td>16/01/2016</td>\n",
       "      <td>despesa com pagamento de telefonia para o escr...</td>\n",
       "      <td>407.48</td>\n",
       "    </tr>\n",
       "    <tr>\n",
       "      <th>4</th>\n",
       "      <td>2016</td>\n",
       "      <td>1</td>\n",
       "      <td>1</td>\n",
       "      <td>Despesas gerais</td>\n",
       "      <td>62.652.961/0001-38</td>\n",
       "      <td>AGÊNCIA ESTADO S.A.</td>\n",
       "      <td>00608918</td>\n",
       "      <td>06/01/2016</td>\n",
       "      <td>Aquisição de publicação virtual de conteúdo jo...</td>\n",
       "      <td>550</td>\n",
       "    </tr>\n",
       "  </tbody>\n",
       "</table>\n",
       "</div>"
      ],
      "text/plain": [
       "    ANO  MES SENADOR     TIPO_DESPESA            CNPJ_CPF  \\\n",
       "0  2016    1       1          Aluguel  05.914.650/0001-66   \n",
       "1  2016    1       1          Aluguel  05.914.650/0001-66   \n",
       "2  2016    1       1          Aluguel      004.948.028-63   \n",
       "3  2016    1       1          Aluguel  05.423.963/0001-11   \n",
       "4  2016    1       1  Despesas gerais  62.652.961/0001-38   \n",
       "\n",
       "                         FORNECEDOR  DOCUMENTO        DATA  \\\n",
       "0  ELETROBRÁS DISTRIBUIÇÃO RONDÔNIA  000011328  13/01/2016   \n",
       "1  ELETROBRÁS DISTRIBUIÇÃO RONDÔNIA  000011327  18/01/2016   \n",
       "2     GILBERTO PISELO DO NASCIMENTO     001/16  04/01/2016   \n",
       "3                     OI MÓVEL S.A.  661639001  16/01/2016   \n",
       "4               AGÊNCIA ESTADO S.A.   00608918  06/01/2016   \n",
       "\n",
       "                                        DETALHAMENTO VALOR_REEMBOLSADO  \n",
       "0  Despesa com pagamento de energia elétrica para...              73.6  \n",
       "1  Pagamento de energia elétrica para o escritóri...            206.84  \n",
       "2  Despesa com pagamento de aluguel, utilizado pa...              6000  \n",
       "3  despesa com pagamento de telefonia para o escr...            407.48  \n",
       "4  Aquisição de publicação virtual de conteúdo jo...               550  "
      ]
     },
     "execution_count": 17,
     "metadata": {},
     "output_type": "execute_result"
    }
   ],
   "source": [
    "df['VALOR_REEMBOLSADO'] = df['VALOR_REEMBOLSADO'].str.replace(',', '.')\n",
    "df.head()"
   ]
  },
  {
   "cell_type": "code",
   "execution_count": 18,
   "metadata": {},
   "outputs": [
    {
     "name": "stdout",
     "output_type": "stream",
     "text": [
      "<class 'pandas.core.frame.DataFrame'>\n",
      "RangeIndex: 26691 entries, 0 to 26690\n",
      "Data columns (total 10 columns):\n",
      "ANO                  26691 non-null int64\n",
      "MES                  26691 non-null int64\n",
      "SENADOR              26691 non-null object\n",
      "TIPO_DESPESA         26691 non-null object\n",
      "CNPJ_CPF             26691 non-null object\n",
      "FORNECEDOR           26691 non-null object\n",
      "DOCUMENTO            24647 non-null object\n",
      "DATA                 26691 non-null object\n",
      "DETALHAMENTO         21308 non-null object\n",
      "VALOR_REEMBOLSADO    26691 non-null float64\n",
      "dtypes: float64(1), int64(2), object(7)\n",
      "memory usage: 2.0+ MB\n"
     ]
    }
   ],
   "source": [
    "df['VALOR_REEMBOLSADO'] = pd.to_numeric(df['VALOR_REEMBOLSADO'])\n",
    "df.info()"
   ]
  },
  {
   "cell_type": "markdown",
   "metadata": {},
   "source": [
    "### OutLiers\n",
    "- Há vários _outliers_ que necessitam ser tratados individualmente\n",
    "- DATA = object\n",
    "- Há valores preenchidos incorretamente e devem ser tratados 1 por 1"
   ]
  },
  {
   "cell_type": "code",
   "execution_count": 19,
   "metadata": {
    "scrolled": true
   },
   "outputs": [
    {
     "name": "stdout",
     "output_type": "stream",
     "text": [
      "<class 'pandas.core.frame.DataFrame'>\n",
      "Int64Index: 26440 entries, 0 to 26690\n",
      "Data columns (total 10 columns):\n",
      "ANO                  26440 non-null int64\n",
      "MES                  26440 non-null int64\n",
      "SENADOR              26440 non-null object\n",
      "TIPO_DESPESA         26440 non-null object\n",
      "CNPJ_CPF             26440 non-null object\n",
      "FORNECEDOR           26440 non-null object\n",
      "DOCUMENTO            24425 non-null object\n",
      "DATA                 26440 non-null datetime64[ns]\n",
      "DETALHAMENTO         21105 non-null object\n",
      "VALOR_REEMBOLSADO    26440 non-null float64\n",
      "dtypes: datetime64[ns](1), float64(1), int64(2), object(6)\n",
      "memory usage: 2.2+ MB\n",
      "None\n"
     ]
    }
   ],
   "source": [
    "# Transform data column in datetime and consider null value invalid\n",
    "df['DATA'] = pd.to_datetime(df['DATA'], errors='coerce')\n",
    "\n",
    "# drop de invalid and missing rows\n",
    "df = df[df['DATA'] > '2015-12-31']\n",
    "df = df[df['DATA'] < '2017-01-01']\n",
    "\n",
    "print(df.info())"
   ]
  },
  {
   "cell_type": "markdown",
   "metadata": {},
   "source": [
    "### Check if is missing values"
   ]
  },
  {
   "cell_type": "code",
   "execution_count": 20,
   "metadata": {},
   "outputs": [
    {
     "name": "stdout",
     "output_type": "stream",
     "text": [
      "ANO                  False\n",
      "MES                  False\n",
      "SENADOR              False\n",
      "TIPO_DESPESA         False\n",
      "CNPJ_CPF             False\n",
      "FORNECEDOR           False\n",
      "DOCUMENTO             True\n",
      "DATA                 False\n",
      "DETALHAMENTO          True\n",
      "VALOR_REEMBOLSADO    False\n",
      "dtype: bool\n"
     ]
    }
   ],
   "source": [
    "# return TRUE if collumn contains values missing\n",
    "\n",
    "missing = df.isnull().any()\n",
    "print(missing)"
   ]
  },
  {
   "cell_type": "code",
   "execution_count": 21,
   "metadata": {
    "collapsed": true
   },
   "outputs": [],
   "source": [
    "# Create dataframe only missing values collumns\n",
    "\n",
    "missingValueColumns = df.columns[df.isnull().any()].tolist()\n",
    "df_null = df[missingValueColumns]"
   ]
  },
  {
   "cell_type": "code",
   "execution_count": 22,
   "metadata": {
    "scrolled": true
   },
   "outputs": [
    {
     "name": "stdout",
     "output_type": "stream",
     "text": [
      "There are now 2015 missing values in the DOCUMENTO column\n",
      "There are now 5335 missing values in the DETALHAMENTO column\n"
     ]
    }
   ],
   "source": [
    "# Check each columns by values missing\n",
    "\n",
    "print(\"There are now {} missing values in the DOCUMENTO column\".format(df_null['DOCUMENTO'].isnull().sum()))\n",
    "print(\"There are now {} missing values in the DETALHAMENTO column\".format(df_null['DETALHAMENTO'].isnull().sum()))"
   ]
  },
  {
   "cell_type": "code",
   "execution_count": 23,
   "metadata": {},
   "outputs": [
    {
     "data": {
      "text/plain": [
       "<matplotlib.axes._subplots.AxesSubplot at 0x7fa6915d11d0>"
      ]
     },
     "execution_count": 23,
     "metadata": {},
     "output_type": "execute_result"
    },
    {
     "data": {
      "image/png": "[encoded data removed]",
      "text/plain": [
       "<matplotlib.figure.Figure at 0x7fa6915e77b8>"
      ]
     },
     "metadata": {},
     "output_type": "display_data"
    }
   ],
   "source": [
    "# show missing by columns\n",
    "\n",
    "msno.bar(df_null,figsize=(20,10),color=default_color,fontsize=14,labels=True)"
   ]
  },
  {
   "cell_type": "markdown",
   "metadata": {},
   "source": [
    "#### Collumn graphic\n",
    "Help know distribuition of missing values by collumns"
   ]
  },
  {
   "cell_type": "code",
   "execution_count": 24,
   "metadata": {},
   "outputs": [
    {
     "data": {
      "text/plain": [
       "<matplotlib.axes._subplots.AxesSubplot at 0x7fa691628748>"
      ]
     },
     "execution_count": 24,
     "metadata": {},
     "output_type": "execute_result"
    },
    {
     "data": {
      "image/png": "[encoded data removed]",
      "text/plain": [
       "<matplotlib.figure.Figure at 0x7fa691638ac8>"
      ]
     },
     "metadata": {},
     "output_type": "display_data"
    }
   ],
   "source": [
    "sorted_data = msno.nullity_sort(df_null, sort='descending')\n",
    "msno.matrix(sorted_data, figsize=(10,8), fontsize=14)"
   ]
  },
  {
   "cell_type": "markdown",
   "metadata": {},
   "source": [
    "#### Nota:\n",
    "há poucas variáveis faltando, por isso será utilizado a técnica de preencher com -1 os valores _missing_.\n",
    "\n",
    "Os dados estão ordenados por SENADORES, então é provável que algum deles não está descrevendo por completo os seus gastos."
   ]
  },
  {
   "cell_type": "code",
   "execution_count": 25,
   "metadata": {
    "collapsed": true
   },
   "outputs": [],
   "source": [
    "# preenche todos os missing values com (-1)\n",
    "df.fillna(-1, inplace=True)"
   ]
  },
  {
   "cell_type": "markdown",
   "metadata": {
    "collapsed": true
   },
   "source": [
    "### Check duplicate values"
   ]
  },
  {
   "cell_type": "code",
   "execution_count": 26,
   "metadata": {},
   "outputs": [
    {
     "name": "stdout",
     "output_type": "stream",
     "text": [
      "Dataframe contains 0 lines duplicated.\n",
      "\n"
     ]
    }
   ],
   "source": [
    "# Check dataframe\n",
    "values_duplicated = df.duplicated().sum()\n",
    "print('Dataframe contains {} lines duplicated.\\n'.format(values_duplicated))"
   ]
  },
  {
   "cell_type": "markdown",
   "metadata": {},
   "source": [
    "### Check unique values"
   ]
  },
  {
   "cell_type": "code",
   "execution_count": 27,
   "metadata": {
    "scrolled": true
   },
   "outputs": [
    {
     "name": "stdout",
     "output_type": "stream",
     "text": [
      "ANO                      1\n",
      "MES                     12\n",
      "SENADOR                 93\n",
      "TIPO_DESPESA             7\n",
      "CNPJ_CPF              3845\n",
      "FORNECEDOR            4301\n",
      "DOCUMENTO            22340\n",
      "DATA                   366\n",
      "DETALHAMENTO         12152\n",
      "VALOR_REEMBOLSADO    14013\n",
      "dtype: int64\n"
     ]
    }
   ],
   "source": [
    "values_unique = df.nunique()\n",
    "print(values_unique)"
   ]
  },
  {
   "cell_type": "code",
   "execution_count": 28,
   "metadata": {},
   "outputs": [
    {
     "name": "stdout",
     "output_type": "stream",
     "text": [
      "<class 'pandas.core.frame.DataFrame'>\n",
      "Int64Index: 26440 entries, 0 to 26690\n",
      "Data columns (total 10 columns):\n",
      "ANO                  26440 non-null int64\n",
      "MES                  26440 non-null int64\n",
      "SENADOR              26440 non-null int64\n",
      "TIPO_DESPESA         26440 non-null object\n",
      "CNPJ_CPF             26440 non-null object\n",
      "FORNECEDOR           26440 non-null object\n",
      "DOCUMENTO            26440 non-null object\n",
      "DATA                 26440 non-null datetime64[ns]\n",
      "DETALHAMENTO         26440 non-null object\n",
      "VALOR_REEMBOLSADO    26440 non-null float64\n",
      "dtypes: datetime64[ns](1), float64(1), int64(3), object(5)\n",
      "memory usage: 2.2+ MB\n"
     ]
    }
   ],
   "source": [
    "df.info()"
   ]
  },
  {
   "cell_type": "markdown",
   "metadata": {},
   "source": [
    "Parece fazer sentido estes valores. Então se dará por concluido a parte de _data cleaning and data analisys_."
   ]
  },
  {
   "cell_type": "markdown",
   "metadata": {},
   "source": [
    "### Save Data clean\n"
   ]
  },
  {
   "cell_type": "code",
   "execution_count": 29,
   "metadata": {},
   "outputs": [
    {
     "name": "stdout",
     "output_type": "stream",
     "text": [
      "Dados salvos em dados_limpos_ceaps.csv\n"
     ]
    }
   ],
   "source": [
    "df.to_csv('dados_limpos_ceaps.csv', \n",
    "          index=False, \n",
    "          sep=',', \n",
    "          encoding='utf-8')\n",
    "\n",
    "print('Dados salvos em dados_limpos_ceaps.csv')"
   ]
  }
 ],
 "metadata": {
  "kernelspec": {
   "display_name": "Python 3",
   "language": "python",
   "name": "python3"
  },
  "language_info": {
   "codemirror_mode": {
    "name": "ipython",
    "version": 3
   },
   "file_extension": ".py",
   "mimetype": "text/x-python",
   "name": "python",
   "nbconvert_exporter": "python",
   "pygments_lexer": "ipython3",
   "version": "3.6.3"
  },
  "latex_envs": {
   "LaTeX_envs_menu_present": true,
   "autoclose": false,
   "autocomplete": true,
   "bibliofile": "biblio.bib",
   "cite_by": "apalike",
   "current_citInitial": 1,
   "eqLabelWithNumbers": true,
   "eqNumInitial": 1,
   "hotkeys": {
    "equation": "Ctrl-E",
    "itemize": "Ctrl-I"
   },
   "labels_anchors": false,
   "latex_user_defs": false,
   "report_style_numbering": false,
   "user_envs_cfg": false
  }
 },
 "nbformat": 4,
 "nbformat_minor": 2
}
